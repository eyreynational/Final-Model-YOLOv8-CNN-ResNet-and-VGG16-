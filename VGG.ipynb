{
  "nbformat": 4,
  "nbformat_minor": 0,
  "metadata": {
    "colab": {
      "private_outputs": true,
      "provenance": [],
      "gpuType": "T4",
      "authorship_tag": "ABX9TyNgjpczD2qwcFsF8XohYGLB",
      "include_colab_link": true
    },
    "kernelspec": {
      "name": "python3",
      "display_name": "Python 3"
    },
    "language_info": {
      "name": "python"
    },
    "accelerator": "GPU"
  },
  "cells": [
    {
      "cell_type": "markdown",
      "metadata": {
        "id": "view-in-github",
        "colab_type": "text"
      },
      "source": [
        "<a href=\"https://colab.research.google.com/github/eyreynational/Final-Model-YOLOv8-CNN-ResNet-and-VGG16-/blob/main/VGG.ipynb\" target=\"_parent\"><img src=\"https://colab.research.google.com/assets/colab-badge.svg\" alt=\"Open In Colab\"/></a>"
      ]
    },
    {
      "cell_type": "code",
      "source": [
        "from google.colab import drive\n",
        "drive.mount('/content/drive')"
      ],
      "metadata": {
        "id": "XfbQ2pc0sJMm"
      },
      "execution_count": null,
      "outputs": []
    },
    {
      "cell_type": "code",
      "execution_count": null,
      "metadata": {
        "id": "1o-fvvZtq1j_"
      },
      "outputs": [],
      "source": [
        "import tensorflow as tf\n",
        "from tensorflow.keras.preprocessing.image import ImageDataGenerator\n",
        "from tensorflow.keras.applications import VGG16\n",
        "from tensorflow.keras import layers, models, optimizers\n",
        "from sklearn.metrics import classification_report, confusion_matrix\n",
        "import numpy as np"
      ]
    },
    {
      "cell_type": "code",
      "source": [
        "# Define paths\n",
        "train_dir = '/content/drive/MyDrive/Master/Dataset/trian'  # Update with your path\n",
        "test_dir = '/content/drive/MyDrive/Master/Dataset/test'\n"
      ],
      "metadata": {
        "id": "BaZTmP3w78k5"
      },
      "execution_count": null,
      "outputs": []
    },
    {
      "cell_type": "code",
      "source": [
        "# Data Augmentation for the Training Set\n",
        "train_datagen = ImageDataGenerator(\n",
        "    rescale=1./255,                # Normalization\n",
        "    rotation_range=40,             # Random rotations\n",
        "    width_shift_range=0.2,         # Horizontal shifts\n",
        "    height_shift_range=0.2,        # Vertical shifts\n",
        "    shear_range=0.2,               # Shear transformations\n",
        "    zoom_range=0.2,                # Random zoom\n",
        "    horizontal_flip=True,          # Flip horizontally\n",
        "    fill_mode='nearest'            # Fill mode for shifts\n",
        ")"
      ],
      "metadata": {
        "id": "FChfgD-BoJNa"
      },
      "execution_count": null,
      "outputs": []
    },
    {
      "cell_type": "code",
      "source": [
        "# For the Test Set, only rescale\n",
        "test_datagen = ImageDataGenerator(rescale=1./255)\n",
        "\n",
        "# Load the training set\n",
        "train_generator = train_datagen.flow_from_directory(\n",
        "    train_dir,\n",
        "    target_size=(256, 256),\n",
        "    batch_size=32,\n",
        "    class_mode='categorical'  # For multi-class classification\n",
        ")"
      ],
      "metadata": {
        "id": "7oUiN9zvoJq2"
      },
      "execution_count": null,
      "outputs": []
    },
    {
      "cell_type": "code",
      "source": [
        "# Load the test set\n",
        "test_generator = test_datagen.flow_from_directory(\n",
        "    test_dir,\n",
        "    target_size=(256, 256),\n",
        "    batch_size=32,\n",
        "    class_mode='categorical',\n",
        "    shuffle=False\n",
        ")"
      ],
      "metadata": {
        "id": "_NIA-_4koMLP"
      },
      "execution_count": null,
      "outputs": []
    },
    {
      "cell_type": "code",
      "source": [
        "# Load the VGG16 model with pre-trained ImageNet weights, excluding the top layers\n",
        "base_model = VGG16(weights='imagenet', include_top=False, input_shape=(256, 256, 3))\n"
      ],
      "metadata": {
        "id": "vv2dPRhlp1bZ"
      },
      "execution_count": null,
      "outputs": []
    },
    {
      "cell_type": "code",
      "source": [
        "# Freeze the base model layers to prevent training on them\n",
        "base_model.trainable = False\n",
        "\n",
        "# Add custom top layers for your dataset\n",
        "model = models.Sequential([\n",
        "    base_model,  # Add the VGG16 base model\n",
        "    layers.Flatten(),  # Flatten the output of VGG16\n",
        "    layers.Dense(512, activation='relu'),  # Dense layer\n",
        "    layers.Dropout(0.5),  # Dropout to prevent overfitting\n",
        "    layers.Dense(5, activation='softmax')  # Output layer for 5 classes\n",
        "])"
      ],
      "metadata": {
        "id": "l8tt9e-Sp31n"
      },
      "execution_count": null,
      "outputs": []
    },
    {
      "cell_type": "code",
      "source": [
        "# Compile the model\n",
        "model.compile(\n",
        "    optimizer=optimizers.Adam(learning_rate=1e-4),  # Adjust the learning rate if necessary\n",
        "    loss='categorical_crossentropy',\n",
        "    metrics=['accuracy']\n",
        ")"
      ],
      "metadata": {
        "id": "moBPQWwlp9J0"
      },
      "execution_count": null,
      "outputs": []
    },
    {
      "cell_type": "code",
      "source": [
        "# Train the model\n",
        "history = model.fit(\n",
        "    train_generator,\n",
        "    steps_per_epoch=train_generator.samples // train_generator.batch_size,\n",
        "    epochs=70,  # Start with fewer epochs and increase if needed\n",
        "    validation_data=test_generator,\n",
        "    validation_steps=test_generator.samples // test_generator.batch_size\n",
        ")\n"
      ],
      "metadata": {
        "id": "Z4JptbFgp_a4"
      },
      "execution_count": null,
      "outputs": []
    },
    {
      "cell_type": "code",
      "source": [
        "# Evaluate the model\n",
        "test_loss, test_acc = model.evaluate(test_generator, verbose=2)\n",
        "print(f\"Test Accuracy: {test_acc}\")"
      ],
      "metadata": {
        "id": "rc78Vk6Op_Xd"
      },
      "execution_count": null,
      "outputs": []
    },
    {
      "cell_type": "code",
      "source": [
        "# Predict on the test set\n",
        "Y_pred = model.predict(test_generator)\n",
        "y_pred = np.argmax(Y_pred, axis=1)"
      ],
      "metadata": {
        "id": "qOYg0H0-p_UR"
      },
      "execution_count": null,
      "outputs": []
    },
    {
      "cell_type": "code",
      "source": [
        "# Classification report for precision, recall, f1-score\n",
        "print('Classification Report')\n",
        "target_names = ['Powdery_mildew', 'Bacterial_spot', 'Late_blight', 'Healthy', 'Mosaic_virus']\n",
        "print(classification_report(test_generator.classes, y_pred, target_names=target_names,digits=4))\n"
      ],
      "metadata": {
        "id": "3gxao204tMuv"
      },
      "execution_count": null,
      "outputs": []
    },
    {
      "cell_type": "code",
      "source": [
        "import numpy as np\n",
        "from sklearn.metrics import confusion_matrix\n",
        "\n",
        "# Get the confusion matrix\n",
        "cm = confusion_matrix(test_generator.classes, y_pred)\n",
        "\n",
        "# Class labels\n",
        "class_names = ['Powdery_mildew', 'Bacterial_spot', 'Late_blight', 'Healthy', 'Mosaic_virus']\n",
        "\n",
        "# Calculate per-class accuracy\n",
        "print(\"Per-Class Accuracy:\")\n",
        "for i, class_name in enumerate(class_names):\n",
        "    correct = cm[i, i]\n",
        "    total = cm[i].sum()\n",
        "    accuracy = correct / total if total > 0 else 0\n",
        "    print(f\"{class_name}: {accuracy:.4f}\")\n"
      ],
      "metadata": {
        "id": "oGjr4tyT8XKI"
      },
      "execution_count": null,
      "outputs": []
    },
    {
      "cell_type": "code",
      "source": [
        "# Confusion matrix for detailed error analysis\n",
        "print('Confusion Matrix')\n",
        "print(confusion_matrix(test_generator.classes, y_pred))"
      ],
      "metadata": {
        "id": "GJyfr2Gmp_Rn"
      },
      "execution_count": null,
      "outputs": []
    },
    {
      "cell_type": "code",
      "source": [
        "# Save the entire model to a file\n",
        "model.save('https://drive.google.com/drive/folders/1tmOAHKL5YK_dxG9ufIbU_DDsIhSPcZZH/vgg16_model.h5')\n"
      ],
      "metadata": {
        "id": "aKqr0ubV45GA"
      },
      "execution_count": null,
      "outputs": []
    },
    {
      "cell_type": "code",
      "source": [
        "model.save('my_trained_model.h5')"
      ],
      "metadata": {
        "id": "-_FUYeGlOjM5"
      },
      "execution_count": null,
      "outputs": []
    }
  ]
}